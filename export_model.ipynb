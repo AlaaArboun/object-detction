{
 "cells": [
  {
   "cell_type": "code",
   "execution_count": 6,
   "metadata": {},
   "outputs": [
    {
     "name": "stdout",
     "output_type": "stream",
     "text": [
      "Ultralytics YOLOv8.1.18 🚀 Python-3.11.4 torch-2.2.1+cpu CPU (Intel Core(TM) i7-1065G7 1.30GHz)\n",
      "YOLOv8m summary (fused): 218 layers, 25886080 parameters, 0 gradients, 78.9 GFLOPs\n",
      "\n",
      "\u001b[34m\u001b[1mPyTorch:\u001b[0m starting from 'yolov8m.pt' with input shape (1, 3, 224, 224) BCHW and output shape(s) (1, 84, 1029) (49.7 MB)\n",
      "\n",
      "\u001b[34m\u001b[1mTensorFlow SavedModel:\u001b[0m starting export with tensorflow 2.13.1...\n",
      "\n",
      "\u001b[34m\u001b[1mONNX:\u001b[0m starting export with onnx 1.15.0 opset 17...\n",
      "\u001b[34m\u001b[1mONNX:\u001b[0m simplifying with onnxsim 0.4.35...\n",
      "\u001b[34m\u001b[1mONNX:\u001b[0m export success ✅ 78.5s, saved as 'yolov8m.onnx' (98.8 MB)\n",
      "\u001b[34m\u001b[1mTensorFlow SavedModel:\u001b[0m running 'onnx2tf -i \"yolov8m.onnx\" -o \"yolov8m_saved_model\" -nuo --verbosity info -oiqt -qt per-tensor'\n",
      "\u001b[34m\u001b[1mTensorFlow SavedModel:\u001b[0m export success ✅ 428.2s, saved as 'yolov8m_saved_model' (322.2 MB)\n",
      "\n",
      "\u001b[34m\u001b[1mTensorFlow Lite:\u001b[0m starting export with tensorflow 2.13.1...\n",
      "\u001b[34m\u001b[1mTensorFlow Lite:\u001b[0m export success ✅ 0.0s, saved as 'yolov8m_saved_model\\yolov8m_int8.tflite' (24.8 MB)\n",
      "\n",
      "Export complete (454.4s)\n",
      "Results saved to \u001b[1mC:\\object-detection-coral\u001b[0m\n",
      "Predict:         yolo predict task=detect model=yolov8m_saved_model\\yolov8m_int8.tflite imgsz=224 int8 \n",
      "Validate:        yolo val task=detect model=yolov8m_saved_model\\yolov8m_int8.tflite imgsz=224 data=coco.yaml int8 \n",
      "Visualize:       https://netron.app\n"
     ]
    }
   ],
   "source": [
    "from ultralytics import YOLO\n",
    "model = YOLO('yolov8m.pt')\n",
    "results = model.export(format='tflite',task=\"detect\",int8=True,imgsz=224)"
   ]
  }
 ],
 "metadata": {
  "kernelspec": {
   "display_name": "venv-export",
   "language": "python",
   "name": "python3"
  },
  "language_info": {
   "codemirror_mode": {
    "name": "ipython",
    "version": 3
   },
   "file_extension": ".py",
   "mimetype": "text/x-python",
   "name": "python",
   "nbconvert_exporter": "python",
   "pygments_lexer": "ipython3",
   "version": "3.11.4"
  }
 },
 "nbformat": 4,
 "nbformat_minor": 2
}
